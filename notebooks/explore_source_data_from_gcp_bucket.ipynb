{
 "cells": [
  {
   "cell_type": "code",
   "execution_count": 1,
   "metadata": {},
   "outputs": [],
   "source": [
    "import pyspark\n",
    "from pyspark.sql import SparkSession, Row, SQLContext\n",
    "from pyspark.conf import SparkConf\n",
    "from pyspark.context import SparkContext\n",
    "from pyspark.sql.functions import * \n",
    "from datetime import datetime, timedelta\n",
    "from pyspark.sql.types import *\n",
    "import random"
   ]
  },
  {
   "cell_type": "code",
   "execution_count": 2,
   "metadata": {},
   "outputs": [],
   "source": [
    "credentials_location = \"/home/abdol/AFCON_2023_DE_Stats/code/mage-spark/keys/my-creds.json\""
   ]
  },
  {
   "cell_type": "code",
   "execution_count": 3,
   "metadata": {},
   "outputs": [],
   "source": [
    "conf = SparkConf() \\\n",
    "    .setMaster('local[*]') \\\n",
    "    .setAppName('test') \\\n",
    "    .set(\"spark.jars\", \"/home/abdol/AFCON_2023_DE_Stats/lib/gcs-connector-hadoop3-2.2.5.jar\") \\\n",
    "    .set(\"spark.hadoop.google.cloud.auth.service.account.enable\", \"true\") \\\n",
    "    .set(\"spark.hadoop.google.cloud.auth.service.account.json.keyfile\", credentials_location)"
   ]
  },
  {
   "cell_type": "code",
   "execution_count": 4,
   "metadata": {},
   "outputs": [],
   "source": [
    "sc = SparkContext(conf=conf)"
   ]
  },
  {
   "cell_type": "code",
   "execution_count": 5,
   "metadata": {},
   "outputs": [],
   "source": [
    "hadoop_conf = sc._jsc.hadoopConfiguration()"
   ]
  },
  {
   "cell_type": "code",
   "execution_count": 6,
   "metadata": {},
   "outputs": [],
   "source": [
    "hadoop_conf.set(\"fs.AbstractFileSystem.gs.impl\",  \"com.google.cloud.hadoop.fs.gcs.GoogleHadoopFS\")\n",
    "hadoop_conf.set(\"fs.gs.impl\", \"com.google.cloud.hadoop.fs.gcs.GoogleHadoopFileSystem\")\n",
    "hadoop_conf.set(\"fs.gs.auth.service.account.json.keyfile\", credentials_location)\n",
    "hadoop_conf.set(\"fs.gs.auth.service.account.enable\", \"true\")"
   ]
  },
  {
   "cell_type": "code",
   "execution_count": 7,
   "metadata": {},
   "outputs": [],
   "source": [
    "spark = SparkSession.builder \\\n",
    "    .config(conf=sc.getConf()) \\\n",
    "    .getOrCreate()"
   ]
  },
  {
   "cell_type": "code",
   "execution_count": 8,
   "metadata": {},
   "outputs": [],
   "source": [
    "matches_df = spark.read.parquet(\"gs://cloud_bucket_dbt/acfon_matches.parquet\")"
   ]
  },
  {
   "cell_type": "code",
   "execution_count": null,
   "metadata": {},
   "outputs": [],
   "source": [
    "matches_df.count()"
   ]
  },
  {
   "cell_type": "code",
   "execution_count": 22,
   "metadata": {},
   "outputs": [
    {
     "name": "stdout",
     "output_type": "stream",
     "text": [
      "root\n",
      " |-- match_id: long (nullable = true)\n",
      " |-- match_date: string (nullable = true)\n",
      " |-- kick_off: string (nullable = true)\n",
      " |-- competition: string (nullable = true)\n",
      " |-- season: string (nullable = true)\n",
      " |-- home_team: string (nullable = true)\n",
      " |-- away_team: string (nullable = true)\n",
      " |-- home_score: long (nullable = true)\n",
      " |-- away_score: long (nullable = true)\n",
      " |-- match_week: long (nullable = true)\n",
      " |-- competition_stage: string (nullable = true)\n",
      " |-- stadium: string (nullable = true)\n",
      " |-- referee: string (nullable = true)\n",
      " |-- home_managers: string (nullable = true)\n",
      " |-- away_managers: string (nullable = true)\n",
      " |-- source: string (nullable = true)\n",
      "\n"
     ]
    }
   ],
   "source": [
    "matches_df.printSchema()"
   ]
  },
  {
   "cell_type": "code",
   "execution_count": 9,
   "metadata": {},
   "outputs": [
    {
     "name": "stderr",
     "output_type": "stream",
     "text": [
      "/home/abdol/spark/spark-3.3.2-bin-hadoop3/python/pyspark/sql/dataframe.py:229: FutureWarning: Deprecated in 2.0, use createOrReplaceTempView instead.\n",
      "  warnings.warn(\"Deprecated in 2.0, use createOrReplaceTempView instead.\", FutureWarning)\n"
     ]
    }
   ],
   "source": [
    "matches_df.registerTempTable('Matches')"
   ]
  },
  {
   "cell_type": "code",
   "execution_count": null,
   "metadata": {},
   "outputs": [],
   "source": [
    "matches_df.show(n=5,truncate=False)"
   ]
  },
  {
   "cell_type": "code",
   "execution_count": 50,
   "metadata": {},
   "outputs": [],
   "source": [
    "events_df = spark.read.parquet(\"gs://cloud_bucket_dbt/match_events.parquet\")"
   ]
  },
  {
   "cell_type": "code",
   "execution_count": null,
   "metadata": {},
   "outputs": [],
   "source": [
    "events_df.count()"
   ]
  },
  {
   "cell_type": "code",
   "execution_count": 51,
   "metadata": {
    "collapsed": true
   },
   "outputs": [
    {
     "name": "stdout",
     "output_type": "stream",
     "text": [
      "root\n",
      " |-- foul_committed_penalty: boolean (nullable = true)\n",
      " |-- foul_won_penalty: boolean (nullable = true)\n",
      " |-- player: string (nullable = true)\n",
      " |-- player_id: double (nullable = true)\n",
      " |-- match_id: double (nullable = true)\n",
      " |-- team: string (nullable = true)\n",
      " |-- team_id: double (nullable = true)\n",
      " |-- timestamp: string (nullable = true)\n",
      " |-- type: string (nullable = true)\n",
      " |-- location: array (nullable = true)\n",
      " |    |-- element: double (containsNull = true)\n",
      " |-- play_pattern: string (nullable = true)\n",
      " |-- foul_committed_card: string (nullable = true)\n",
      " |-- foul_committed_offensive: boolean (nullable = true)\n",
      " |-- foul_committed_type: string (nullable = true)\n",
      " |-- foul_won_defensive: boolean (nullable = true)\n",
      " |-- minute: double (nullable = true)\n",
      " |-- pass_goal_assist: boolean (nullable = true)\n",
      " |-- pass_shot_assist: boolean (nullable = true)\n",
      " |-- pass_outcome: string (nullable = true)\n",
      " |-- pass_cross: boolean (nullable = true)\n",
      " |-- position: string (nullable = true)\n",
      " |-- possession: double (nullable = true)\n",
      " |-- possession_team: string (nullable = true)\n",
      " |-- interception_outcome: string (nullable = true)\n",
      " |-- shot_outcome: string (nullable = true)\n",
      " |-- source: string (nullable = true)\n",
      "\n"
     ]
    }
   ],
   "source": [
    "events_df.printSchema()"
   ]
  },
  {
   "cell_type": "code",
   "execution_count": null,
   "metadata": {},
   "outputs": [],
   "source": [
    "events_df.filter(events_df.player_id.isNotNull()).show(n=1,truncate=False)"
   ]
  },
  {
   "cell_type": "code",
   "execution_count": 37,
   "metadata": {},
   "outputs": [],
   "source": [
    "events_df.registerTempTable('events')"
   ]
  },
  {
   "cell_type": "code",
   "execution_count": null,
   "metadata": {},
   "outputs": [],
   "source": [
    "spark.sql(\"\"\"\n",
    "        SELECT DISTINCT shot_outcome \n",
    "        FROM events\n",
    "    \"\"\").show(truncate=False)"
   ]
  },
  {
   "cell_type": "code",
   "execution_count": null,
   "metadata": {},
   "outputs": [],
   "source": [
    "import numpy as np"
   ]
  },
  {
   "cell_type": "code",
   "execution_count": null,
   "metadata": {},
   "outputs": [],
   "source": [
    "events_df.filter(events_df.player_id.isNull()).count()"
   ]
  },
  {
   "cell_type": "code",
   "execution_count": null,
   "metadata": {},
   "outputs": [],
   "source": [
    "events_df.filter(events_df.player_id.isNotNull()).count()"
   ]
  },
  {
   "cell_type": "markdown",
   "metadata": {},
   "source": [
    "#####  define dimensions"
   ]
  },
  {
   "cell_type": "markdown",
   "metadata": {},
   "source": [
    "##### team dimension"
   ]
  },
  {
   "cell_type": "code",
   "execution_count": 11,
   "metadata": {},
   "outputs": [],
   "source": [
    "Team_dim = spark.sql(\"\"\"\n",
    "            SELECT DISTINCT \n",
    "            home_team \n",
    "            FROM Matches\n",
    "    \"\"\")"
   ]
  },
  {
   "cell_type": "code",
   "execution_count": null,
   "metadata": {},
   "outputs": [],
   "source": [
    "Team_dim.count()"
   ]
  },
  {
   "cell_type": "code",
   "execution_count": 12,
   "metadata": {},
   "outputs": [],
   "source": [
    "Team_dim = Team_dim.withColumnRenamed('home_team','team')"
   ]
  },
  {
   "cell_type": "code",
   "execution_count": 13,
   "metadata": {},
   "outputs": [],
   "source": [
    "Team_dim  = Team_dim.join(events_df.select('team_id','team').distinct(),on='team',how='leftouter')"
   ]
  },
  {
   "cell_type": "code",
   "execution_count": 14,
   "metadata": {},
   "outputs": [],
   "source": [
    "Team_dim = Team_dim.withColumn('team_id',Team_dim.team_id.cast(IntegerType()))"
   ]
  },
  {
   "cell_type": "code",
   "execution_count": null,
   "metadata": {},
   "outputs": [],
   "source": [
    "Team_dim.count()"
   ]
  },
  {
   "cell_type": "code",
   "execution_count": null,
   "metadata": {},
   "outputs": [],
   "source": [
    "Team_dim.printSchema()"
   ]
  },
  {
   "cell_type": "code",
   "execution_count": 15,
   "metadata": {},
   "outputs": [],
   "source": [
    "Team_dim = Team_dim.select('team_id', 'team')"
   ]
  },
  {
   "cell_type": "code",
   "execution_count": null,
   "metadata": {},
   "outputs": [],
   "source": [
    "Team_dim.filter(Team_dim.team_id.isNull()).show()"
   ]
  },
  {
   "cell_type": "code",
   "execution_count": 16,
   "metadata": {},
   "outputs": [],
   "source": [
    "excluded_teams = Team_dim.select(collect_list('team_id')).collect()[0][0]"
   ]
  },
  {
   "cell_type": "code",
   "execution_count": 17,
   "metadata": {},
   "outputs": [],
   "source": [
    "excluded_teams_ids = spark.sparkContext.broadcast(excluded_teams)"
   ]
  },
  {
   "cell_type": "code",
   "execution_count": 18,
   "metadata": {},
   "outputs": [],
   "source": [
    "def generate_random_int_not_in_list(team_id,x_list=excluded_teams_ids.value):\n",
    "    if team_id is None:\n",
    "        while True:\n",
    "            random_int = random.randint(1, 1000)\n",
    "            if random_int not in x_list:\n",
    "                return int(random_int)\n",
    "    else:\n",
    "        return int(team_id)\n"
   ]
  },
  {
   "cell_type": "code",
   "execution_count": 19,
   "metadata": {},
   "outputs": [],
   "source": [
    "generate_random_int_udf= udf(generate_random_int_not_in_list,IntegerType())"
   ]
  },
  {
   "cell_type": "code",
   "execution_count": 20,
   "metadata": {},
   "outputs": [],
   "source": [
    "Team_dim = Team_dim.withColumn(\"team_id\", generate_random_int_udf(\"team_id\"))"
   ]
  },
  {
   "cell_type": "code",
   "execution_count": 191,
   "metadata": {},
   "outputs": [
    {
     "name": "stdout",
     "output_type": "stream",
     "text": [
      "+-------+------------------+\n",
      "|team_id|team              |\n",
      "+-------+------------------+\n",
      "|3374   |Côte d'Ivoire     |\n",
      "|787    |Senegal           |\n",
      "|4992   |Equatorial Guinea |\n",
      "|4881   |Congo DR          |\n",
      "|4898   |Algeria           |\n",
      "|4901   |Angola            |\n",
      "|4885   |Ghana             |\n",
      "|751    |Nigeria           |\n",
      "|69     |Mauritania        |\n",
      "|788    |Morocco           |\n",
      "|917    |Tunisia           |\n",
      "|965    |Namibia           |\n",
      "|626    |Zambia            |\n",
      "|4892   |Guinea            |\n",
      "|106    |Cape Verde Islands|\n",
      "|4978   |Mozambique        |\n",
      "|66     |Gambia            |\n",
      "|364    |Tanzania          |\n",
      "|160    |Cameroon          |\n",
      "|739    |Guinea-Bissau     |\n",
      "+-------+------------------+\n",
      "only showing top 20 rows\n",
      "\n"
     ]
    }
   ],
   "source": [
    "Team_dim.show(truncate=False)"
   ]
  },
  {
   "cell_type": "markdown",
   "metadata": {},
   "source": [
    "##### Staduims dimension"
   ]
  },
  {
   "cell_type": "code",
   "execution_count": 24,
   "metadata": {},
   "outputs": [],
   "source": [
    "Staduim = spark.sql(\"\"\"\n",
    "            SELECT DISTINCT stadium\n",
    "            FROM Matches\n",
    "    \"\"\")"
   ]
  },
  {
   "cell_type": "code",
   "execution_count": 25,
   "metadata": {},
   "outputs": [],
   "source": [
    "Staduim = Staduim.withColumn('Staduim_ID',monotonically_increasing_id())"
   ]
  },
  {
   "cell_type": "code",
   "execution_count": 26,
   "metadata": {},
   "outputs": [],
   "source": [
    "Staduim = Staduim.select('Staduim_ID', 'stadium')"
   ]
  },
  {
   "cell_type": "code",
   "execution_count": 27,
   "metadata": {},
   "outputs": [
    {
     "name": "stdout",
     "output_type": "stream",
     "text": [
      "+----------+-----------------------------------------+\n",
      "|Staduim_ID|stadium                                  |\n",
      "+----------+-----------------------------------------+\n",
      "|0         |Stade Laurent Pokou                      |\n",
      "|1         |Stade Amadou Gon Coulibaly               |\n",
      "|2         |Stade de Bouaké                          |\n",
      "|3         |Stade Charles Konan Banny de Yamoussoukro|\n",
      "|4         |Stade Félix Houphouët-Boigny             |\n",
      "|5         |Stade Olympique Alassane Ouattara        |\n",
      "+----------+-----------------------------------------+\n",
      "\n"
     ]
    }
   ],
   "source": [
    "Staduim.show(truncate=False)"
   ]
  },
  {
   "cell_type": "markdown",
   "metadata": {},
   "source": [
    "##### Referee Dimension"
   ]
  },
  {
   "cell_type": "code",
   "execution_count": 28,
   "metadata": {},
   "outputs": [],
   "source": [
    "Referee = spark.sql(\"\"\"\n",
    "                    SELECT DISTINCT referee\n",
    "                    FROM Matches\n",
    "            \"\"\")"
   ]
  },
  {
   "cell_type": "code",
   "execution_count": 29,
   "metadata": {},
   "outputs": [],
   "source": [
    "Referee = Referee.withColumn('referee_id', monotonically_increasing_id())"
   ]
  },
  {
   "cell_type": "code",
   "execution_count": 30,
   "metadata": {},
   "outputs": [],
   "source": [
    "Referee = Referee.select('referee_id', 'referee')"
   ]
  },
  {
   "cell_type": "code",
   "execution_count": 31,
   "metadata": {},
   "outputs": [
    {
     "name": "stdout",
     "output_type": "stream",
     "text": [
      "+----------+---------------------------+\n",
      "|referee_id|referee                    |\n",
      "+----------+---------------------------+\n",
      "|0         |Ibrahim Mutaz              |\n",
      "|1         |Mustapha Ghorbal           |\n",
      "|2         |Abdel Aziz Mohamed Bouh    |\n",
      "|3         |Omar Abdulkadir Artan      |\n",
      "|4         |Bouchra Karboubi           |\n",
      "|5         |Mohamed Maarouf Eid Mansour|\n",
      "|6         |Jalal Jayed                |\n",
      "|7         |Redouane Jiyed             |\n",
      "|8         |Mohamed Adel Elsaid        |\n",
      "|9         |Abdulkadir Artan           |\n",
      "|10        |Mahmood Ali Mahmood Ismail |\n",
      "|11        |Peter Waweru Kamaku        |\n",
      "|12        |Alhadi Allaou Mahamat      |\n",
      "|13        |Pierre Ghislain Atcho      |\n",
      "|14        |Daniel Nii Ayi Laryea      |\n",
      "|15        |Mohamed Adel Hussein       |\n",
      "|16        |Dahane Beida               |\n",
      "|17        |Abongile Tom               |\n",
      "|18        |Issa Sy                    |\n",
      "|19        |Bamlak Tessema Weyesa      |\n",
      "+----------+---------------------------+\n",
      "only showing top 20 rows\n",
      "\n"
     ]
    }
   ],
   "source": [
    "Referee.show(truncate=False)"
   ]
  },
  {
   "cell_type": "markdown",
   "metadata": {},
   "source": [
    "##### Manager Dimension"
   ]
  },
  {
   "cell_type": "code",
   "execution_count": 32,
   "metadata": {},
   "outputs": [],
   "source": [
    "Manager = spark.sql(\"\"\"\n",
    "                    SELECT DISTINCT home_managers \n",
    "                    FROM Matches\n",
    "            \"\"\")"
   ]
  },
  {
   "cell_type": "code",
   "execution_count": 33,
   "metadata": {},
   "outputs": [],
   "source": [
    "Manager = Manager.withColumn(\"manager_id\", monotonically_increasing_id())"
   ]
  },
  {
   "cell_type": "code",
   "execution_count": 34,
   "metadata": {},
   "outputs": [],
   "source": [
    "Manager = Manager.withColumnRenamed('home_managers', 'manager')"
   ]
  },
  {
   "cell_type": "code",
   "execution_count": null,
   "metadata": {},
   "outputs": [],
   "source": [
    "Manager.count()"
   ]
  },
  {
   "cell_type": "code",
   "execution_count": 35,
   "metadata": {
    "collapsed": true
   },
   "outputs": [
    {
     "name": "stdout",
     "output_type": "stream",
     "text": [
      "+-------------------------------+----------+\n",
      "|manager                        |manager_id|\n",
      "+-------------------------------+----------+\n",
      "|Emerse Faé                     |0         |\n",
      "|Rui Carlos Pinho da Vitória    |1         |\n",
      "|Avraham Grant                  |2         |\n",
      "|Éric Chelle                    |3         |\n",
      "|Djamel Belmadi                 |4         |\n",
      "|Pedro Valdemar Soares Gonçalves|5         |\n",
      "|José Vítor dos Santos Peseiro  |6         |\n",
      "|Collin Benjamin                |7         |\n",
      "|Chris Hughton                  |8         |\n",
      "|Rigobert Song Bahanag          |9         |\n",
      "|Baciro Candé                   |10        |\n",
      "|Jalel Kadri                    |11        |\n",
      "|Amir Abdou                     |12        |\n",
      "|Aliou Cissé                    |13        |\n",
      "|Francisco Queriol Conde Júnior |14        |\n",
      "|Tom Saintfiet                  |15        |\n",
      "|Hemed Suleiman Ali             |16        |\n",
      "|Hugo Henri Broos               |17        |\n",
      "|Juan Micha Obiang Bicogo       |18        |\n",
      "|Pedro Leitão Brito             |19        |\n",
      "+-------------------------------+----------+\n",
      "only showing top 20 rows\n",
      "\n"
     ]
    }
   ],
   "source": [
    "Manager.show(truncate=False)"
   ]
  },
  {
   "cell_type": "markdown",
   "metadata": {},
   "source": [
    "##### Player Dimension"
   ]
  },
  {
   "cell_type": "code",
   "execution_count": 43,
   "metadata": {},
   "outputs": [],
   "source": [
    "Player_dim = spark.sql(\"\"\"\n",
    "\n",
    "            SELECT DISTINCT player_id,player\n",
    "            FROM events\n",
    "    \"\"\")"
   ]
  },
  {
   "cell_type": "code",
   "execution_count": 39,
   "metadata": {
    "collapsed": true
   },
   "outputs": [
    {
     "name": "stdout",
     "output_type": "stream",
     "text": [
      "+---------+--------------------+\n",
      "|player_id|              player|\n",
      "+---------+--------------------+\n",
      "|  10844.0|Alfredo Kulembe R...|\n",
      "|  70835.0|Mohamed Hamdy Sharaf|\n",
      "|   4388.0| Kouakou Herve Koffi|\n",
      "|   5229.0|      Ayoub El Kaabi|\n",
      "|  58878.0|     Boubacar Traore|\n",
      "| 408160.0|       Dramane Salou|\n",
      "| 103207.0|Loide António Aug...|\n",
      "|  23331.0|    Boubakar Kouyate|\n",
      "| 143165.0|       Mohamed Chibi|\n",
      "|  88123.0|Cheikh Ahmadou Ba...|\n",
      "|   4385.0|       Yves Bissouma|\n",
      "|  12557.0|        Falaye Sacko|\n",
      "|   5237.0|        Hakim Ziyech|\n",
      "| 105765.0|Jesús Lázaro Owon...|\n",
      "|  12111.0|     Rayan Aït Nouri|\n",
      "|  52324.0|Saúl Basilio Coco...|\n",
      "|   8992.0|     Ibrahim Sissoko|\n",
      "|  10865.0|Witiness Chimoio ...|\n",
      "|  10573.0|Jonathan Buatu Ma...|\n",
      "| 176683.0|     Ibrahim Diakité|\n",
      "+---------+--------------------+\n",
      "only showing top 20 rows\n",
      "\n"
     ]
    }
   ],
   "source": [
    "Player_dim.show()"
   ]
  },
  {
   "cell_type": "code",
   "execution_count": 40,
   "metadata": {},
   "outputs": [
    {
     "name": "stdout",
     "output_type": "stream",
     "text": [
      "root\n",
      " |-- player_id: double (nullable = true)\n",
      " |-- player: string (nullable = true)\n",
      "\n"
     ]
    }
   ],
   "source": [
    "Player_dim.printSchema()"
   ]
  },
  {
   "cell_type": "code",
   "execution_count": 44,
   "metadata": {},
   "outputs": [],
   "source": [
    "Player_dim = Player_dim.withColumn('player_id',Player_dim.player_id.cast(IntegerType()))"
   ]
  },
  {
   "cell_type": "code",
   "execution_count": 45,
   "metadata": {},
   "outputs": [
    {
     "name": "stdout",
     "output_type": "stream",
     "text": [
      "Count of distinct players in tournment before drop null: 210\n"
     ]
    }
   ],
   "source": [
    "print('Count of distinct players in tournment before drop null: {}'.format(Player_dim.count()))"
   ]
  },
  {
   "cell_type": "code",
   "execution_count": 46,
   "metadata": {},
   "outputs": [],
   "source": [
    "Player_dim = Player_dim.filter(Player_dim.player_id.isNotNull())"
   ]
  },
  {
   "cell_type": "code",
   "execution_count": 47,
   "metadata": {},
   "outputs": [
    {
     "name": "stdout",
     "output_type": "stream",
     "text": [
      "Count of distinct players in tournment after drop null: 209\n"
     ]
    }
   ],
   "source": [
    "print('Count of distinct players in tournment after drop null: {}'.format(Player_dim.count()))"
   ]
  },
  {
   "cell_type": "markdown",
   "metadata": {},
   "source": [
    "##### Date Dimension"
   ]
  },
  {
   "cell_type": "code",
   "execution_count": null,
   "metadata": {},
   "outputs": [],
   "source": [
    "def get_max_min_date_from_src():\n",
    "    max_min_date_list = spark.sql(\"\"\"\n",
    "                        SELECT \n",
    "                                MIN(match_date) AS min_match_date,\n",
    "                                MAX(match_date) AS max_match_date\n",
    "                        FROM \n",
    "                                Matches\n",
    "            \"\"\").collect()\n",
    "    \n",
    "    \n",
    "    start_date = to_date(lit(max_min_date_list[0]['min_match_date']), \"%Y-%m-%d\")\n",
    "    max_date = to_date(lit(max_min_date_list[0]['max_match_date']), \"%Y-%m-%d\")\n",
    "    \n",
    "\n",
    "    \n",
    "    dates = spark.range(start_date.subtract(days=1), max_date.add(days=1), 1).select(\"id\").alias(\"date_id\")\n",
    "    \n",
    "    dates = dates.withColumn(\"date\", date_add(start_date, col(\"date_id\") - 1))\n",
    "\n",
    "    \n",
    "    dates = dates.withColumn(\"year\", year(col(\"date\")))\n",
    "    dates = dates.withColumn(\"month\", month(col(\"date\")))\n",
    "    dates = dates.withColumn(\"day_of_week\", dayofweek(col(\"date\")))\n",
    "    dates = dates.withColumn(\"id\", monotonically_increasing_id())                        \n",
    "    return dates"
   ]
  },
  {
   "cell_type": "code",
   "execution_count": null,
   "metadata": {},
   "outputs": [],
   "source": [
    "get_max_min_date_from_src().show()"
   ]
  },
  {
   "cell_type": "markdown",
   "metadata": {},
   "source": [
    "##### Event fact table"
   ]
  },
  {
   "cell_type": "code",
   "execution_count": 192,
   "metadata": {},
   "outputs": [],
   "source": [
    "events_df = spark.read.parquet(\"gs://cloud_bucket_dbt/match_events.parquet\")"
   ]
  },
  {
   "cell_type": "code",
   "execution_count": 170,
   "metadata": {
    "collapsed": true
   },
   "outputs": [
    {
     "name": "stdout",
     "output_type": "stream",
     "text": [
      "root\n",
      " |-- foul_committed_penalty: boolean (nullable = true)\n",
      " |-- foul_won_penalty: boolean (nullable = true)\n",
      " |-- player: string (nullable = true)\n",
      " |-- player_id: double (nullable = true)\n",
      " |-- match_id: double (nullable = true)\n",
      " |-- team: string (nullable = true)\n",
      " |-- team_id: double (nullable = true)\n",
      " |-- timestamp: string (nullable = true)\n",
      " |-- type: string (nullable = true)\n",
      " |-- location: array (nullable = true)\n",
      " |    |-- element: double (containsNull = true)\n",
      " |-- play_pattern: string (nullable = true)\n",
      " |-- foul_committed_card: string (nullable = true)\n",
      " |-- foul_committed_offensive: boolean (nullable = true)\n",
      " |-- foul_committed_type: string (nullable = true)\n",
      " |-- foul_won_defensive: boolean (nullable = true)\n",
      " |-- minute: double (nullable = true)\n",
      " |-- pass_goal_assist: boolean (nullable = true)\n",
      " |-- pass_shot_assist: boolean (nullable = true)\n",
      " |-- pass_outcome: string (nullable = true)\n",
      " |-- pass_cross: boolean (nullable = true)\n",
      " |-- position: string (nullable = true)\n",
      " |-- possession: double (nullable = true)\n",
      " |-- possession_team: string (nullable = true)\n",
      " |-- interception_outcome: string (nullable = true)\n",
      " |-- shot_outcome: string (nullable = true)\n",
      " |-- source: string (nullable = true)\n",
      "\n"
     ]
    }
   ],
   "source": [
    "events_df.printSchema()"
   ]
  },
  {
   "cell_type": "code",
   "execution_count": 193,
   "metadata": {},
   "outputs": [],
   "source": [
    "Events_fact = events_df.filter(events_df.player_id.isNotNull())\n",
    "Events_fact = Events_fact.drop(Events_fact.player)"
   ]
  },
  {
   "cell_type": "code",
   "execution_count": 194,
   "metadata": {},
   "outputs": [],
   "source": [
    "### get the team ids from Team dimension \n",
    "Events_fact = Events_fact.drop('team_id')\n",
    "Events_fact = Events_fact.join(Team_dim, on='Team', how='leftouter')\n",
    "Events_fact = Events_fact.drop('team')\n",
    "Events_fact = Events_fact.withColumnRenamed('team_id', 'team_event_id')"
   ]
  },
  {
   "cell_type": "code",
   "execution_count": 176,
   "metadata": {
    "collapsed": true
   },
   "outputs": [
    {
     "name": "stdout",
     "output_type": "stream",
     "text": [
      "root\n",
      " |-- foul_committed_penalty: boolean (nullable = true)\n",
      " |-- foul_won_penalty: boolean (nullable = true)\n",
      " |-- player_id: double (nullable = true)\n",
      " |-- match_id: double (nullable = true)\n",
      " |-- timestamp: string (nullable = true)\n",
      " |-- type: string (nullable = true)\n",
      " |-- location: array (nullable = true)\n",
      " |    |-- element: double (containsNull = true)\n",
      " |-- play_pattern: string (nullable = true)\n",
      " |-- foul_committed_card: string (nullable = true)\n",
      " |-- foul_committed_offensive: boolean (nullable = true)\n",
      " |-- foul_committed_type: string (nullable = true)\n",
      " |-- foul_won_defensive: boolean (nullable = true)\n",
      " |-- minute: double (nullable = true)\n",
      " |-- pass_goal_assist: boolean (nullable = true)\n",
      " |-- pass_shot_assist: boolean (nullable = true)\n",
      " |-- pass_outcome: string (nullable = true)\n",
      " |-- pass_cross: boolean (nullable = true)\n",
      " |-- position: string (nullable = true)\n",
      " |-- possession: double (nullable = true)\n",
      " |-- interception_outcome: string (nullable = true)\n",
      " |-- shot_outcome: string (nullable = true)\n",
      " |-- source: string (nullable = true)\n",
      " |-- team_id: integer (nullable = true)\n",
      " |-- possession_team_id: integer (nullable = true)\n",
      "\n"
     ]
    }
   ],
   "source": [
    "Events_fact.printSchema()"
   ]
  },
  {
   "cell_type": "code",
   "execution_count": 195,
   "metadata": {},
   "outputs": [],
   "source": [
    "### get possession team ids from team dimension \n",
    "Events_fact = Events_fact.join(Team_dim, col(\"possession_team\") == Team_dim.team, how='leftouter') \\\n",
    "                         .drop(Team_dim.team) \\\n",
    "                         .drop(\"possession_team\") \\\n",
    "                         .withColumnRenamed(\"team_id\",\"possession_team_id\")"
   ]
  },
  {
   "cell_type": "code",
   "execution_count": 196,
   "metadata": {},
   "outputs": [],
   "source": [
    "Events_fact = Events_fact.withColumnRenamed('team_event_id', 'team_id')"
   ]
  },
  {
   "cell_type": "code",
   "execution_count": 197,
   "metadata": {},
   "outputs": [],
   "source": [
    "Events_fact = Events_fact.drop('source')"
   ]
  },
  {
   "cell_type": "code",
   "execution_count": 198,
   "metadata": {},
   "outputs": [],
   "source": [
    "## Hash-based Surrogate Key for events fact table\n",
    "hash_cols = [\"player_id\",\"match_id\",\"team_id\",\"type\",\"timestamp\"]"
   ]
  },
  {
   "cell_type": "code",
   "execution_count": 199,
   "metadata": {},
   "outputs": [],
   "source": [
    "def create_hash(player_id, match_id, team_id, event, timestamp):\n",
    "  # Combine the values into a string (you can customize this logic)\n",
    "  return f\"{player_id}_{match_id}_{team_id}_{event}_{timestamp}\"\n",
    "\n",
    "create_hash_udf = udf(create_hash, StringType())\n",
    "\n",
    "Events_fact = Events_fact.withColumn(\"event_id\", md5(create_hash_udf(*hash_cols)))"
   ]
  },
  {
   "cell_type": "code",
   "execution_count": 200,
   "metadata": {},
   "outputs": [],
   "source": [
    "Events_fact.createOrReplaceTempView('events_fact')"
   ]
  },
  {
   "cell_type": "code",
   "execution_count": 204,
   "metadata": {
    "collapsed": true
   },
   "outputs": [
    {
     "name": "stdout",
     "output_type": "stream",
     "text": [
      "+-------+----------------------+----------------+---------+---------+------------+-------------+-------------+--------------+-------------------+------------------------+-------------------+------------------+------+----------------+----------------+------------+----------+--------------+----------+--------------------+------------+-------+------------------+--------------------+\n",
      "|ROW_NUM|foul_committed_penalty|foul_won_penalty|player_id| match_id|   timestamp|         type|     location|  play_pattern|foul_committed_card|foul_committed_offensive|foul_committed_type|foul_won_defensive|minute|pass_goal_assist|pass_shot_assist|pass_outcome|pass_cross|      position|possession|interception_outcome|shot_outcome|team_id|possession_team_id|            event_id|\n",
      "+-------+----------------------+----------------+---------+---------+------------+-------------+-------------+--------------+-------------------+------------------------+-------------------+------------------+------+----------------+----------------+------------+----------+--------------+----------+--------------------+------------+-------+------------------+--------------------+\n",
      "|      2|                 false|            null|   6862.0|3920405.0|00:50:37.350|Ball Receipt*| [80.2, 50.8]|From Goal Kick|               null|                    null|               null|              null|  50.0|            null|            null|        null|      null|Center Forward|      62.0|                null|        null|   4881|               788|0005e5d88302d63e2...|\n",
      "|      3|                 false|           false|   6862.0|3920405.0|00:50:37.350|Ball Receipt*| [80.2, 50.8]|From Goal Kick|               null|                    null|               null|              null|  50.0|            null|            null|        null|      null|Center Forward|      62.0|                null|        null|   4881|               788|0005e5d88302d63e2...|\n",
      "|      4|                 false|           false|   6862.0|3920405.0|00:50:37.350|Ball Receipt*| [80.2, 50.8]|From Goal Kick|               null|                    null|               null|              null|  50.0|            null|            null|        null|      null|Center Forward|      62.0|                null|        null|   4881|               788|0005e5d88302d63e2...|\n",
      "|      5|                 false|           false|   6862.0|3920405.0|00:50:37.350|Ball Receipt*| [80.2, 50.8]|From Goal Kick|               null|                    null|               null|              null|  50.0|            null|            null|        null|      null|Center Forward|      62.0|                null|        null|   4881|               788|0005e5d88302d63e2...|\n",
      "|      2|                 false|            null| 106068.0|3920385.0|00:09:12.747|      Dribble|[101.7, 11.9]|  Regular Play|               null|                    null|               null|              null|   9.0|            null|            null|        null|      null| Left Midfield|      11.0|                null|        null|   4978|              4978|000611cc0a9f0bb20...|\n",
      "|      3|                 false|           false| 106068.0|3920385.0|00:09:12.747|      Dribble|[101.7, 11.9]|  Regular Play|               null|                    null|               null|              null|   9.0|            null|            null|        null|      null| Left Midfield|      11.0|                null|        null|   4978|              4978|000611cc0a9f0bb20...|\n",
      "|      4|                 false|           false| 106068.0|3920385.0|00:09:12.747|      Dribble|[101.7, 11.9]|  Regular Play|               null|                    null|               null|              null|   9.0|            null|            null|        null|      null| Left Midfield|      11.0|                null|        null|   4978|              4978|000611cc0a9f0bb20...|\n",
      "|      5|                 false|           false| 106068.0|3920385.0|00:09:12.747|      Dribble|[101.7, 11.9]|  Regular Play|               null|                    null|               null|              null|   9.0|            null|            null|        null|      null| Left Midfield|      11.0|                null|        null|   4978|              4978|000611cc0a9f0bb20...|\n",
      "|      6|                 false|           false| 106068.0|3920385.0|00:09:12.747|      Dribble|[101.7, 11.9]|  Regular Play|               null|                    null|               null|              null|   9.0|            null|            null|        null|      null| Left Midfield|      11.0|                null|        null|   4978|              4978|000611cc0a9f0bb20...|\n",
      "|      7|                 false|           false| 106068.0|3920385.0|00:09:12.747|      Dribble|[101.7, 11.9]|  Regular Play|               null|                    null|               null|              null|   9.0|            null|            null|        null|      null| Left Midfield|      11.0|                null|        null|   4978|              4978|000611cc0a9f0bb20...|\n",
      "|      8|                 false|           false| 106068.0|3920385.0|00:09:12.747|      Dribble|[101.7, 11.9]|  Regular Play|               null|                    null|               null|              null|   9.0|            null|            null|        null|      null| Left Midfield|      11.0|                null|        null|   4978|              4978|000611cc0a9f0bb20...|\n",
      "|      9|                 false|           false| 106068.0|3920385.0|00:09:12.747|      Dribble|[101.7, 11.9]|  Regular Play|               null|                    null|               null|              null|   9.0|            null|            null|        null|      null| Left Midfield|      11.0|                null|        null|   4978|              4978|000611cc0a9f0bb20...|\n",
      "|     10|                 false|           false| 106068.0|3920385.0|00:09:12.747|      Dribble|[101.7, 11.9]|  Regular Play|               null|                    null|               null|              null|   9.0|            null|            null|        null|      null| Left Midfield|      11.0|                null|        null|   4978|              4978|000611cc0a9f0bb20...|\n",
      "|     11|                 false|           false| 106068.0|3920385.0|00:09:12.747|      Dribble|[101.7, 11.9]|  Regular Play|               null|                    null|               null|              null|   9.0|            null|            null|        null|      null| Left Midfield|      11.0|                null|        null|   4978|              4978|000611cc0a9f0bb20...|\n",
      "|     12|                 false|           false| 106068.0|3920385.0|00:09:12.747|      Dribble|[101.7, 11.9]|  Regular Play|               null|                    null|               null|              null|   9.0|            null|            null|        null|      null| Left Midfield|      11.0|                null|        null|   4978|              4978|000611cc0a9f0bb20...|\n",
      "|     13|                 false|           false| 106068.0|3920385.0|00:09:12.747|      Dribble|[101.7, 11.9]|  Regular Play|               null|                    null|               null|              null|   9.0|            null|            null|        null|      null| Left Midfield|      11.0|                null|        null|   4978|              4978|000611cc0a9f0bb20...|\n",
      "|     14|                 false|           false| 106068.0|3920385.0|00:09:12.747|      Dribble|[101.7, 11.9]|  Regular Play|               null|                    null|               null|              null|   9.0|            null|            null|        null|      null| Left Midfield|      11.0|                null|        null|   4978|              4978|000611cc0a9f0bb20...|\n",
      "|     15|                 false|           false| 106068.0|3920385.0|00:09:12.747|      Dribble|[101.7, 11.9]|  Regular Play|               null|                    null|               null|              null|   9.0|            null|            null|        null|      null| Left Midfield|      11.0|                null|        null|   4978|              4978|000611cc0a9f0bb20...|\n",
      "|     16|                 false|           false| 106068.0|3920385.0|00:09:12.747|      Dribble|[101.7, 11.9]|  Regular Play|               null|                    null|               null|              null|   9.0|            null|            null|        null|      null| Left Midfield|      11.0|                null|        null|   4978|              4978|000611cc0a9f0bb20...|\n",
      "|     17|                 false|           false| 106068.0|3920385.0|00:09:12.747|      Dribble|[101.7, 11.9]|  Regular Play|               null|                    null|               null|              null|   9.0|            null|            null|        null|      null| Left Midfield|      11.0|                null|        null|   4978|              4978|000611cc0a9f0bb20...|\n",
      "+-------+----------------------+----------------+---------+---------+------------+-------------+-------------+--------------+-------------------+------------------------+-------------------+------------------+------+----------------+----------------+------------+----------+--------------+----------+--------------------+------------+-------+------------------+--------------------+\n",
      "only showing top 20 rows\n",
      "\n"
     ]
    }
   ],
   "source": [
    "spark.sql(\"\"\"SELECT *\n",
    "    FROM (\n",
    "            SELECT \n",
    "                row_number() OVER(PARTITION BY EVENT_ID ORDER BY EVENT_ID) AS ROW_NUM,\n",
    "                *\n",
    "            FROM EVENTS_FACT)L1\n",
    "    WHERE L1.ROW_NUM > 1\"\"\").show()"
   ]
  },
  {
   "cell_type": "code",
   "execution_count": 183,
   "metadata": {
    "scrolled": true
   },
   "outputs": [],
   "source": [
    "## DROP DUPLICATE EVENTS \n",
    "Events_fact = spark.sql(\"\"\"\n",
    "    SELECT *\n",
    "    FROM (\n",
    "            SELECT \n",
    "                row_number() OVER(PARTITION BY EVENT_ID ORDER BY EVENT_ID) AS ROW_NUM,\n",
    "                *\n",
    "            FROM EVENTS_FACT)L1\n",
    "    WHERE L1.ROW_NUM = 1\n",
    "        \n",
    "    \"\"\")"
   ]
  },
  {
   "cell_type": "code",
   "execution_count": 104,
   "metadata": {},
   "outputs": [
    {
     "data": {
      "text/plain": [
       "25622"
      ]
     },
     "execution_count": 104,
     "metadata": {},
     "output_type": "execute_result"
    }
   ],
   "source": [
    "Events_fact.count()"
   ]
  },
  {
   "cell_type": "code",
   "execution_count": 184,
   "metadata": {},
   "outputs": [],
   "source": [
    "Events_fact = Events_fact.withColumnRenamed('type', 'event_type') \\\n",
    "                         .withColumnRenamed('timestamp', 'event_timestamp') \\\n",
    "                         .withColumnRenamed('minute', 'event_minute') \\\n",
    "                         .withColumnRenamed('location', 'event_location')"
   ]
  },
  {
   "cell_type": "code",
   "execution_count": 107,
   "metadata": {},
   "outputs": [
    {
     "name": "stdout",
     "output_type": "stream",
     "text": [
      "root\n",
      " |-- ROW_NUM: integer (nullable = false)\n",
      " |-- foul_committed_penalty: boolean (nullable = true)\n",
      " |-- foul_won_penalty: boolean (nullable = true)\n",
      " |-- player_id: double (nullable = true)\n",
      " |-- match_id: double (nullable = true)\n",
      " |-- event_timestamp: string (nullable = true)\n",
      " |-- event_type: string (nullable = true)\n",
      " |-- event_location: array (nullable = true)\n",
      " |    |-- element: double (containsNull = true)\n",
      " |-- play_pattern: string (nullable = true)\n",
      " |-- foul_committed_card: string (nullable = true)\n",
      " |-- foul_committed_offensive: boolean (nullable = true)\n",
      " |-- foul_committed_type: string (nullable = true)\n",
      " |-- foul_won_defensive: boolean (nullable = true)\n",
      " |-- event_minute: double (nullable = true)\n",
      " |-- pass_goal_assist: boolean (nullable = true)\n",
      " |-- pass_shot_assist: boolean (nullable = true)\n",
      " |-- pass_outcome: string (nullable = true)\n",
      " |-- pass_cross: boolean (nullable = true)\n",
      " |-- position: string (nullable = true)\n",
      " |-- possession: double (nullable = true)\n",
      " |-- possession_team: string (nullable = true)\n",
      " |-- interception_outcome: string (nullable = true)\n",
      " |-- shot_outcome: string (nullable = true)\n",
      " |-- team_id: integer (nullable = true)\n",
      " |-- event_id: string (nullable = true)\n",
      "\n"
     ]
    }
   ],
   "source": [
    "Events_fact.printSchema()"
   ]
  },
  {
   "cell_type": "code",
   "execution_count": 185,
   "metadata": {},
   "outputs": [],
   "source": [
    "Events_fact = Events_fact.select(\n",
    "                \n",
    "            'event_id',\n",
    "            'player_id',\n",
    "            'match_id',\n",
    "            'team_id',\n",
    "            'event_type',\n",
    "            'event_timestamp',\n",
    "            'event_minute',\n",
    "            'event_location',\n",
    "            'play_pattern', \n",
    "            'position',\n",
    "            'pass_outcome',\n",
    "            'pass_cross',\n",
    "            'pass_goal_assist',\n",
    "            'pass_shot_assist',\n",
    "            'foul_committed_type',\n",
    "            'foul_committed_card',\n",
    "            'foul_committed_offensive',\n",
    "            'foul_won_defensive',\n",
    "            'foul_committed_penalty',\n",
    "            'foul_won_penalty',\n",
    "            'shot_outcome',\n",
    "            'interception_outcome',\n",
    "            'possession',\n",
    "            'possession_team_id'\n",
    "            \n",
    "    )"
   ]
  },
  {
   "cell_type": "code",
   "execution_count": 186,
   "metadata": {},
   "outputs": [
    {
     "name": "stdout",
     "output_type": "stream",
     "text": [
      "+--------------------+---------+---------+-------+-------------+---------------+------------+--------------+--------------+--------------+------------+----------+----------------+----------------+-------------------+-------------------+------------------------+------------------+----------------------+----------------+------------+--------------------+----------+------------------+\n",
      "|            event_id|player_id| match_id|team_id|   event_type|event_timestamp|event_minute|event_location|  play_pattern|      position|pass_outcome|pass_cross|pass_goal_assist|pass_shot_assist|foul_committed_type|foul_committed_card|foul_committed_offensive|foul_won_defensive|foul_committed_penalty|foul_won_penalty|shot_outcome|interception_outcome|possession|possession_team_id|\n",
      "+--------------------+---------+---------+-------+-------------+---------------+------------+--------------+--------------+--------------+------------+----------+----------------+----------------+-------------------+-------------------+------------------------+------------------+----------------------+----------------+------------+--------------------+----------+------------------+\n",
      "|0005e5d88302d63e2...|   6862.0|3920405.0|   4881|Ball Receipt*|   00:50:37.350|        50.0|  [80.2, 50.8]|From Goal Kick|Center Forward|        null|      null|            null|            null|               null|               null|                    null|              null|                  null|            null|        null|                null|      62.0|               788|\n",
      "|000611cc0a9f0bb20...| 106068.0|3920385.0|   4978|      Dribble|   00:09:12.747|         9.0| [101.7, 11.9]|  Regular Play| Left Midfield|        null|      null|            null|            null|               null|               null|                    null|              null|                  null|            null|        null|                null|      11.0|              4978|\n",
      "+--------------------+---------+---------+-------+-------------+---------------+------------+--------------+--------------+--------------+------------+----------+----------------+----------------+-------------------+-------------------+------------------------+------------------+----------------------+----------------+------------+--------------------+----------+------------------+\n",
      "only showing top 2 rows\n",
      "\n"
     ]
    }
   ],
   "source": [
    "Events_fact.show(n=2)"
   ]
  },
  {
   "cell_type": "code",
   "execution_count": 188,
   "metadata": {},
   "outputs": [
    {
     "data": {
      "text/plain": [
       "18483"
      ]
     },
     "execution_count": 188,
     "metadata": {},
     "output_type": "execute_result"
    }
   ],
   "source": [
    "Events_fact.select('event_location').distinct().count()"
   ]
  },
  {
   "cell_type": "code",
   "execution_count": 190,
   "metadata": {},
   "outputs": [
    {
     "name": "stdout",
     "output_type": "stream",
     "text": [
      "+--------------+\n",
      "|event_location|\n",
      "+--------------+\n",
      "|  [29.4, 16.3]|\n",
      "|  [43.0, 14.7]|\n",
      "|  [64.8, 66.5]|\n",
      "|  [49.7, 16.5]|\n",
      "|  [27.0, 53.9]|\n",
      "|  [64.9, 69.6]|\n",
      "|  [52.0, 45.2]|\n",
      "|  [61.4, 76.1]|\n",
      "|   [76.7, 9.9]|\n",
      "|  [43.3, 74.4]|\n",
      "|  [51.8, 69.5]|\n",
      "|   [78.8, 6.1]|\n",
      "|  [76.1, 21.4]|\n",
      "|  [39.0, 51.3]|\n",
      "|  [72.8, 73.3]|\n",
      "|  [57.9, 33.2]|\n",
      "|  [43.4, 71.2]|\n",
      "|    [6.6, 3.7]|\n",
      "|  [68.2, 32.0]|\n",
      "|  [55.8, 39.1]|\n",
      "+--------------+\n",
      "only showing top 20 rows\n",
      "\n"
     ]
    }
   ],
   "source": [
    "spark.sql(\"\"\"\n",
    "                SELECT DISTINCT event_location \n",
    "                FROM events_fact\n",
    "    \"\"\").show()"
   ]
  },
  {
   "cell_type": "code",
   "execution_count": null,
   "metadata": {},
   "outputs": [],
   "source": [
    "spark.stop()"
   ]
  }
 ],
 "metadata": {
  "kernelspec": {
   "display_name": "Python 3",
   "language": "python",
   "name": "python3"
  },
  "language_info": {
   "codemirror_mode": {
    "name": "ipython",
    "version": 3
   },
   "file_extension": ".py",
   "mimetype": "text/x-python",
   "name": "python",
   "nbconvert_exporter": "python",
   "pygments_lexer": "ipython3",
   "version": "3.8.10"
  }
 },
 "nbformat": 4,
 "nbformat_minor": 5
}

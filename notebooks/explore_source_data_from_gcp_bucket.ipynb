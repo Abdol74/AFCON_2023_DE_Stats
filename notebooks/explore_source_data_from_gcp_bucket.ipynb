{
 "cells": [
  {
   "cell_type": "code",
   "execution_count": 1,
   "metadata": {},
   "outputs": [],
   "source": [
    "import pyspark\n",
    "from pyspark.sql import SparkSession, Row, SQLContext\n",
    "from pyspark.conf import SparkConf\n",
    "from pyspark.context import SparkContext\n",
    "from pyspark.sql.functions import * \n",
    "from datetime import datetime, timedelta\n",
    "from pyspark.sql.types import *\n",
    "import random"
   ]
  },
  {
   "cell_type": "code",
   "execution_count": null,
   "metadata": {},
   "outputs": [],
   "source": [
    "# credentials_location = \"/home/abdol/AFCON_2023_DE_Stats/code/mage-spark/keys/my-creds.json\""
   ]
  },
  {
   "cell_type": "code",
   "execution_count": 2,
   "metadata": {},
   "outputs": [],
   "source": [
    "credentials_location = \"/home/abdol/keys/afcon_project/my-creds.json\""
   ]
  },
  {
   "cell_type": "code",
   "execution_count": 3,
   "metadata": {},
   "outputs": [],
   "source": [
    "GCS_connector = \"/home/abdol/AFCON_2023_DE_Stats/lib/gcs-connector-hadoop3-2.2.5.jar\" \n",
    "GBQ_connector = \"/home/abdol/AFCON_2023_DE_Stats/lib/spark-3.3-bigquery-0.36.1.jar\"\n",
    "conf_jars = f\"{GCS_connector},{GBQ_connector}\""
   ]
  },
  {
   "cell_type": "code",
   "execution_count": null,
   "metadata": {},
   "outputs": [],
   "source": [
    "# temp_GCS_Bucket = \"cloud_bucket_dbt\""
   ]
  },
  {
   "cell_type": "code",
   "execution_count": 4,
   "metadata": {},
   "outputs": [],
   "source": [
    "temp_GCS_Bucket = \"afcon_datalake\"\n",
    "bucket_name = \"afcon_datalake\""
   ]
  },
  {
   "cell_type": "code",
   "execution_count": 5,
   "metadata": {},
   "outputs": [],
   "source": [
    "conf = SparkConf() \\\n",
    "    .setMaster('local[*]') \\\n",
    "    .setAppName('test') \\\n",
    "    .set(\"spark.jars\", conf_jars) \\\n",
    "    .set(\"spark.hadoop.google.cloud.auth.service.account.enable\", \"true\") \\\n",
    "    .set(\"spark.hadoop.google.cloud.auth.service.account.json.keyfile\", credentials_location) \\\n",
    "    .set(\"temporaryGcsBucket\",temp_GCS_Bucket)"
   ]
  },
  {
   "cell_type": "code",
   "execution_count": null,
   "metadata": {},
   "outputs": [],
   "source": [
    "all_configs = conf.getAll()\n",
    "for key, value in all_configs:\n",
    "    print(f\"{key}: {value}\")"
   ]
  },
  {
   "cell_type": "code",
   "execution_count": 6,
   "metadata": {},
   "outputs": [],
   "source": [
    "sc = SparkContext(conf=conf)"
   ]
  },
  {
   "cell_type": "code",
   "execution_count": 7,
   "metadata": {},
   "outputs": [],
   "source": [
    "hadoop_conf = sc._jsc.hadoopConfiguration()"
   ]
  },
  {
   "cell_type": "code",
   "execution_count": 8,
   "metadata": {},
   "outputs": [],
   "source": [
    "hadoop_conf.set(\"fs.AbstractFileSystem.gs.impl\",  \"com.google.cloud.hadoop.fs.gcs.GoogleHadoopFS\")\n",
    "hadoop_conf.set(\"fs.gs.impl\", \"com.google.cloud.hadoop.fs.gcs.GoogleHadoopFileSystem\")\n",
    "hadoop_conf.set(\"fs.gs.auth.service.account.json.keyfile\", credentials_location)\n",
    "hadoop_conf.set(\"fs.gs.auth.service.account.enable\", \"true\")"
   ]
  },
  {
   "cell_type": "code",
   "execution_count": 9,
   "metadata": {},
   "outputs": [],
   "source": [
    "spark = SparkSession.builder \\\n",
    "    .config(conf=sc.getConf()) \\\n",
    "    .getOrCreate()"
   ]
  },
  {
   "cell_type": "code",
   "execution_count": 10,
   "metadata": {},
   "outputs": [],
   "source": [
    "matches_df = spark.read.parquet(\"gs://{}/acfon_matches.parquet\".format(bucket_name))"
   ]
  },
  {
   "cell_type": "code",
   "execution_count": null,
   "metadata": {},
   "outputs": [],
   "source": [
    "# matches_df.count()"
   ]
  },
  {
   "cell_type": "code",
   "execution_count": null,
   "metadata": {},
   "outputs": [],
   "source": [
    "# matches_df.printSchema()"
   ]
  },
  {
   "cell_type": "code",
   "execution_count": 11,
   "metadata": {},
   "outputs": [
    {
     "name": "stderr",
     "output_type": "stream",
     "text": [
      "/home/abdol/spark/spark-3.3.2-bin-hadoop3/python/pyspark/sql/dataframe.py:229: FutureWarning: Deprecated in 2.0, use createOrReplaceTempView instead.\n",
      "  warnings.warn(\"Deprecated in 2.0, use createOrReplaceTempView instead.\", FutureWarning)\n"
     ]
    }
   ],
   "source": [
    "matches_df.registerTempTable('Matches')"
   ]
  },
  {
   "cell_type": "code",
   "execution_count": null,
   "metadata": {},
   "outputs": [],
   "source": [
    "matches_df.columns"
   ]
  },
  {
   "cell_type": "code",
   "execution_count": null,
   "metadata": {},
   "outputs": [],
   "source": [
    "# matches_df.show(n=5,truncate=False)"
   ]
  },
  {
   "cell_type": "code",
   "execution_count": null,
   "metadata": {},
   "outputs": [],
   "source": [
    "events_df = spark.read.parquet(\"gs://{}/match_events.parquet\".format(bucket_name))"
   ]
  },
  {
   "cell_type": "code",
   "execution_count": null,
   "metadata": {},
   "outputs": [],
   "source": [
    "spark.stop()"
   ]
  },
  {
   "cell_type": "code",
   "execution_count": null,
   "metadata": {},
   "outputs": [],
   "source": [
    "# events_df.count()"
   ]
  },
  {
   "cell_type": "code",
   "execution_count": null,
   "metadata": {},
   "outputs": [],
   "source": [
    "# events_df.printSchema()"
   ]
  },
  {
   "cell_type": "code",
   "execution_count": null,
   "metadata": {},
   "outputs": [],
   "source": [
    "# events_df.filter(events_df.player_id.isNotNull()).show(n=1,truncate=False)"
   ]
  },
  {
   "cell_type": "code",
   "execution_count": null,
   "metadata": {},
   "outputs": [],
   "source": [
    "events_df.registerTempTable('events')"
   ]
  },
  {
   "cell_type": "code",
   "execution_count": null,
   "metadata": {},
   "outputs": [],
   "source": [
    "# spark.sql(\"\"\"\n",
    "#         SELECT DISTINCT shot_outcome \n",
    "#         FROM events\n",
    "#     \"\"\").show(truncate=False)"
   ]
  },
  {
   "cell_type": "code",
   "execution_count": null,
   "metadata": {},
   "outputs": [],
   "source": [
    "# events_df.filter(events_df.player_id.isNull()).count()"
   ]
  },
  {
   "cell_type": "code",
   "execution_count": null,
   "metadata": {},
   "outputs": [],
   "source": [
    "# events_df.filter(events_df.player_id.isNotNull()).count()"
   ]
  },
  {
   "cell_type": "markdown",
   "metadata": {},
   "source": [
    "#####  define dimensions"
   ]
  },
  {
   "cell_type": "markdown",
   "metadata": {},
   "source": [
    "##### team dimension"
   ]
  },
  {
   "cell_type": "code",
   "execution_count": null,
   "metadata": {},
   "outputs": [],
   "source": [
    "Team_dim = spark.sql(\"\"\"\n",
    "            SELECT DISTINCT \n",
    "            home_team \n",
    "            FROM Matches\n",
    "    \"\"\")"
   ]
  },
  {
   "cell_type": "code",
   "execution_count": null,
   "metadata": {},
   "outputs": [],
   "source": [
    "# Team_dim.count()"
   ]
  },
  {
   "cell_type": "code",
   "execution_count": null,
   "metadata": {},
   "outputs": [],
   "source": [
    "Team_dim = Team_dim.withColumnRenamed('home_team','team')"
   ]
  },
  {
   "cell_type": "code",
   "execution_count": null,
   "metadata": {},
   "outputs": [],
   "source": [
    "Team_dim  = Team_dim.join(events_df.select('team_id','team').distinct(),on='team',how='leftouter')"
   ]
  },
  {
   "cell_type": "code",
   "execution_count": null,
   "metadata": {},
   "outputs": [],
   "source": [
    "Team_dim = Team_dim.withColumn('team_id',Team_dim.team_id.cast(IntegerType()))"
   ]
  },
  {
   "cell_type": "code",
   "execution_count": null,
   "metadata": {},
   "outputs": [],
   "source": [
    "# Team_dim.count()"
   ]
  },
  {
   "cell_type": "code",
   "execution_count": null,
   "metadata": {},
   "outputs": [],
   "source": [
    "# Team_dim.printSchema()"
   ]
  },
  {
   "cell_type": "code",
   "execution_count": null,
   "metadata": {},
   "outputs": [],
   "source": [
    "Team_dim = Team_dim.select('team_id', 'team')"
   ]
  },
  {
   "cell_type": "code",
   "execution_count": null,
   "metadata": {},
   "outputs": [],
   "source": [
    "# Team_dim.filter(Team_dim.team_id.isNull()).show()"
   ]
  },
  {
   "cell_type": "code",
   "execution_count": null,
   "metadata": {},
   "outputs": [],
   "source": [
    "excluded_teams = Team_dim.select(collect_list('team_id')).collect()[0][0]"
   ]
  },
  {
   "cell_type": "code",
   "execution_count": null,
   "metadata": {},
   "outputs": [],
   "source": [
    "excluded_teams_ids = spark.sparkContext.broadcast(excluded_teams)"
   ]
  },
  {
   "cell_type": "code",
   "execution_count": null,
   "metadata": {},
   "outputs": [],
   "source": [
    "def generate_random_int_not_in_list(team_id,x_list=excluded_teams_ids.value):\n",
    "    if team_id is None:\n",
    "        while True:\n",
    "            random_int = random.randint(1, 1000)\n",
    "            if random_int not in x_list:\n",
    "                return int(random_int)\n",
    "    else:\n",
    "        return int(team_id)\n"
   ]
  },
  {
   "cell_type": "code",
   "execution_count": null,
   "metadata": {},
   "outputs": [],
   "source": [
    "generate_random_int_udf= udf(generate_random_int_not_in_list,IntegerType())"
   ]
  },
  {
   "cell_type": "code",
   "execution_count": null,
   "metadata": {},
   "outputs": [],
   "source": [
    "Team_dim = Team_dim.withColumn(\"team_id\", generate_random_int_udf(\"team_id\"))"
   ]
  },
  {
   "cell_type": "code",
   "execution_count": null,
   "metadata": {},
   "outputs": [],
   "source": [
    "# Team_dim.show(truncate=False)"
   ]
  },
  {
   "cell_type": "markdown",
   "metadata": {},
   "source": [
    "##### Staduims dimension"
   ]
  },
  {
   "cell_type": "code",
   "execution_count": 12,
   "metadata": {},
   "outputs": [],
   "source": [
    "Staduim = spark.sql(\"\"\"\n",
    "            SELECT DISTINCT stadium\n",
    "            FROM Matches\n",
    "    \"\"\")"
   ]
  },
  {
   "cell_type": "code",
   "execution_count": 13,
   "metadata": {},
   "outputs": [],
   "source": [
    "Staduim = Staduim.withColumn('Staduim_ID',monotonically_increasing_id())"
   ]
  },
  {
   "cell_type": "code",
   "execution_count": 14,
   "metadata": {},
   "outputs": [],
   "source": [
    "Staduim = Staduim.select('Staduim_ID', 'stadium')"
   ]
  },
  {
   "cell_type": "code",
   "execution_count": null,
   "metadata": {},
   "outputs": [],
   "source": [
    "# Staduim.show(truncate=False)"
   ]
  },
  {
   "cell_type": "markdown",
   "metadata": {},
   "source": [
    "##### Referee Dimension"
   ]
  },
  {
   "cell_type": "code",
   "execution_count": null,
   "metadata": {},
   "outputs": [],
   "source": [
    "Referee = spark.sql(\"\"\"\n",
    "                    SELECT DISTINCT referee\n",
    "                    FROM Matches\n",
    "            \"\"\")"
   ]
  },
  {
   "cell_type": "code",
   "execution_count": null,
   "metadata": {},
   "outputs": [],
   "source": [
    "Referee = Referee.withColumn('referee_id', monotonically_increasing_id())"
   ]
  },
  {
   "cell_type": "code",
   "execution_count": null,
   "metadata": {},
   "outputs": [],
   "source": [
    "Referee = Referee.select('referee_id', 'referee')"
   ]
  },
  {
   "cell_type": "code",
   "execution_count": null,
   "metadata": {},
   "outputs": [],
   "source": [
    "# Referee.show(truncate=False)"
   ]
  },
  {
   "cell_type": "markdown",
   "metadata": {},
   "source": [
    "##### Manager Dimension"
   ]
  },
  {
   "cell_type": "code",
   "execution_count": null,
   "metadata": {},
   "outputs": [],
   "source": [
    "Manager = spark.sql(\"\"\"\n",
    "                    SELECT DISTINCT home_managers \n",
    "                    FROM Matches\n",
    "            \"\"\")"
   ]
  },
  {
   "cell_type": "code",
   "execution_count": null,
   "metadata": {},
   "outputs": [],
   "source": [
    "Manager = Manager.withColumn(\"manager_id\", monotonically_increasing_id())"
   ]
  },
  {
   "cell_type": "code",
   "execution_count": null,
   "metadata": {},
   "outputs": [],
   "source": [
    "Manager = Manager.withColumnRenamed('home_managers', 'manager')"
   ]
  },
  {
   "cell_type": "code",
   "execution_count": null,
   "metadata": {},
   "outputs": [],
   "source": [
    "# Manager.count()"
   ]
  },
  {
   "cell_type": "code",
   "execution_count": null,
   "metadata": {},
   "outputs": [],
   "source": [
    "# Manager.show(truncate=False)"
   ]
  },
  {
   "cell_type": "markdown",
   "metadata": {},
   "source": [
    "##### Player Dimension"
   ]
  },
  {
   "cell_type": "code",
   "execution_count": null,
   "metadata": {},
   "outputs": [],
   "source": [
    "Player_dim = spark.sql(\"\"\"\n",
    "\n",
    "            SELECT DISTINCT player_id,player\n",
    "            FROM events\n",
    "    \"\"\")"
   ]
  },
  {
   "cell_type": "code",
   "execution_count": null,
   "metadata": {},
   "outputs": [],
   "source": [
    "# Player_dim.show()"
   ]
  },
  {
   "cell_type": "code",
   "execution_count": null,
   "metadata": {},
   "outputs": [],
   "source": [
    "# Player_dim.printSchema()"
   ]
  },
  {
   "cell_type": "code",
   "execution_count": null,
   "metadata": {},
   "outputs": [],
   "source": [
    "Player_dim = Player_dim.withColumn('player_id',Player_dim.player_id.cast(IntegerType()))"
   ]
  },
  {
   "cell_type": "code",
   "execution_count": null,
   "metadata": {},
   "outputs": [],
   "source": [
    "# print('Count of distinct players in tournment before drop null: {}'.format(Player_dim.count()))"
   ]
  },
  {
   "cell_type": "code",
   "execution_count": null,
   "metadata": {},
   "outputs": [],
   "source": [
    "Player_dim = Player_dim.filter(Player_dim.player_id.isNotNull())"
   ]
  },
  {
   "cell_type": "code",
   "execution_count": null,
   "metadata": {},
   "outputs": [],
   "source": [
    "# print('Count of distinct players in tournment after drop null: {}'.format(Player_dim.count()))"
   ]
  },
  {
   "cell_type": "markdown",
   "metadata": {},
   "source": [
    "##### Date Dimension"
   ]
  },
  {
   "cell_type": "code",
   "execution_count": null,
   "metadata": {},
   "outputs": [],
   "source": [
    "# def get_max_min_date_from_src():\n",
    "#     max_min_date_list = spark.sql(\"\"\"\n",
    "#                         SELECT \n",
    "#                                 MIN(match_date) AS min_match_date,\n",
    "#                                 MAX(match_date) AS max_match_date\n",
    "#                         FROM \n",
    "#                                 Matches\n",
    "#             \"\"\").collect()\n",
    "    \n",
    "    \n",
    "#     start_date = to_date(lit(max_min_date_list[0]['min_match_date']), \"%Y-%m-%d\")\n",
    "#     max_date = to_date(lit(max_min_date_list[0]['max_match_date']), \"%Y-%m-%d\")\n",
    "    \n",
    "\n",
    "    \n",
    "#     dates = spark.range(start_date.subtract(days=1), max_date.add(days=1), 1).select(\"id\").alias(\"date_id\")\n",
    "    \n",
    "#     dates = dates.withColumn(\"date\", date_add(start_date, col(\"date_id\") - 1))\n",
    "\n",
    "    \n",
    "#     dates = dates.withColumn(\"year\", year(col(\"date\")))\n",
    "#     dates = dates.withColumn(\"month\", month(col(\"date\")))\n",
    "#     dates = dates.withColumn(\"day_of_week\", dayofweek(col(\"date\")))\n",
    "#     dates = dates.withColumn(\"id\", monotonically_increasing_id())                        \n",
    "#     return dates"
   ]
  },
  {
   "cell_type": "code",
   "execution_count": null,
   "metadata": {},
   "outputs": [],
   "source": [
    "# get_max_min_date_from_src().show()"
   ]
  },
  {
   "cell_type": "markdown",
   "metadata": {},
   "source": [
    "##### Event fact table"
   ]
  },
  {
   "cell_type": "code",
   "execution_count": null,
   "metadata": {},
   "outputs": [],
   "source": [
    "events_df = spark.read.parquet(\"gs://cloud_bucket_dbt/match_events.parquet\")"
   ]
  },
  {
   "cell_type": "code",
   "execution_count": null,
   "metadata": {},
   "outputs": [],
   "source": [
    "# events_df.printSchema()"
   ]
  },
  {
   "cell_type": "code",
   "execution_count": null,
   "metadata": {},
   "outputs": [],
   "source": [
    "Events_fact = events_df.filter(events_df.player_id.isNotNull())\n",
    "Events_fact = Events_fact.drop(Events_fact.player)"
   ]
  },
  {
   "cell_type": "code",
   "execution_count": null,
   "metadata": {},
   "outputs": [],
   "source": [
    "### get the team ids from Team dimension \n",
    "Events_fact = Events_fact.drop('team_id')\n",
    "Events_fact = Events_fact.join(Team_dim, on='Team', how='leftouter')\n",
    "Events_fact = Events_fact.drop('team')\n",
    "Events_fact = Events_fact.withColumnRenamed('team_id', 'team_event_id')"
   ]
  },
  {
   "cell_type": "code",
   "execution_count": null,
   "metadata": {},
   "outputs": [],
   "source": [
    "# Events_fact.printSchema()"
   ]
  },
  {
   "cell_type": "code",
   "execution_count": null,
   "metadata": {},
   "outputs": [],
   "source": [
    "### get possession team ids from team dimension \n",
    "Events_fact = Events_fact.join(Team_dim, col(\"possession_team\") == Team_dim.team, how='leftouter') \\\n",
    "                         .drop(Team_dim.team) \\\n",
    "                         .drop(\"possession_team\") \\\n",
    "                         .withColumnRenamed(\"team_id\",\"possession_team_id\")"
   ]
  },
  {
   "cell_type": "code",
   "execution_count": null,
   "metadata": {},
   "outputs": [],
   "source": [
    "Events_fact = Events_fact.withColumnRenamed('team_event_id', 'team_id')"
   ]
  },
  {
   "cell_type": "code",
   "execution_count": null,
   "metadata": {},
   "outputs": [],
   "source": [
    "Events_fact = Events_fact.drop('source')"
   ]
  },
  {
   "cell_type": "code",
   "execution_count": null,
   "metadata": {},
   "outputs": [],
   "source": [
    "## Hash-based Surrogate Key for events fact table\n",
    "hash_cols = [\"player_id\",\"match_id\",\"team_id\",\"type\",\"timestamp\"]"
   ]
  },
  {
   "cell_type": "code",
   "execution_count": null,
   "metadata": {},
   "outputs": [],
   "source": [
    "def create_hash(player_id, match_id, team_id, event, timestamp):\n",
    "  # Combine the values into a string (you can customize this logic)\n",
    "  return f\"{player_id}_{match_id}_{team_id}_{event}_{timestamp}\"\n",
    "\n",
    "create_hash_udf = udf(create_hash, StringType())\n",
    "\n",
    "Events_fact = Events_fact.withColumn(\"event_id\", md5(create_hash_udf(*hash_cols)))"
   ]
  },
  {
   "cell_type": "code",
   "execution_count": null,
   "metadata": {},
   "outputs": [],
   "source": [
    "Events_fact.createOrReplaceTempView('events_fact')"
   ]
  },
  {
   "cell_type": "code",
   "execution_count": null,
   "metadata": {},
   "outputs": [],
   "source": [
    "# spark.sql(\"\"\"SELECT *\n",
    "#     FROM (\n",
    "#             SELECT \n",
    "#                 row_number() OVER(PARTITION BY EVENT_ID ORDER BY EVENT_ID) AS ROW_NUM,\n",
    "#                 *\n",
    "#             FROM EVENTS_FACT)L1\n",
    "#     WHERE L1.ROW_NUM > 1\"\"\").show()"
   ]
  },
  {
   "cell_type": "code",
   "execution_count": null,
   "metadata": {
    "scrolled": true
   },
   "outputs": [],
   "source": [
    "## DROP DUPLICATE EVENTS \n",
    "Events_fact = spark.sql(\"\"\"\n",
    "    SELECT *\n",
    "    FROM (\n",
    "            SELECT \n",
    "                row_number() OVER(PARTITION BY EVENT_ID ORDER BY EVENT_ID) AS ROW_NUM,\n",
    "                *\n",
    "            FROM EVENTS_FACT)L1\n",
    "    WHERE L1.ROW_NUM = 1\n",
    "        \n",
    "    \"\"\")"
   ]
  },
  {
   "cell_type": "code",
   "execution_count": null,
   "metadata": {},
   "outputs": [],
   "source": [
    "# Events_fact.count()"
   ]
  },
  {
   "cell_type": "code",
   "execution_count": null,
   "metadata": {},
   "outputs": [],
   "source": [
    "Events_fact = Events_fact.withColumnRenamed('type', 'event_type') \\\n",
    "                         .withColumnRenamed('timestamp', 'event_timestamp') \\\n",
    "                         .withColumnRenamed('minute', 'event_minute') \\\n",
    "                         .withColumnRenamed('location', 'event_location')"
   ]
  },
  {
   "cell_type": "code",
   "execution_count": null,
   "metadata": {},
   "outputs": [],
   "source": [
    "# Events_fact.printSchema()"
   ]
  },
  {
   "cell_type": "code",
   "execution_count": null,
   "metadata": {},
   "outputs": [],
   "source": [
    "Events_fact = Events_fact.select(\n",
    "                \n",
    "            'event_id',\n",
    "            'player_id',\n",
    "            'match_id',\n",
    "            'team_id',\n",
    "            'event_type',\n",
    "            'event_timestamp',\n",
    "            'event_minute',\n",
    "            'event_location',\n",
    "            'play_pattern', \n",
    "            'position',\n",
    "            'pass_outcome',\n",
    "            'pass_cross',\n",
    "            'pass_goal_assist',\n",
    "            'pass_shot_assist',\n",
    "            'foul_committed_type',\n",
    "            'foul_committed_card',\n",
    "            'foul_committed_offensive',\n",
    "            'foul_won_defensive',\n",
    "            'foul_committed_penalty',\n",
    "            'foul_won_penalty',\n",
    "            'shot_outcome',\n",
    "            'interception_outcome',\n",
    "            'possession',\n",
    "            'possession_team_id'\n",
    "            \n",
    "    )"
   ]
  },
  {
   "cell_type": "code",
   "execution_count": null,
   "metadata": {},
   "outputs": [],
   "source": [
    "Events_fact = Events_fact.withColumn(\"zone\",\n",
    "  when(col(\"event_location\")[0] >= 80, \"Attack\")\n",
    "  .when((col(\"event_location\")[0] >= 40) & (col(\"event_location\")[0] < 80), \"Midfield\")\n",
    "  .otherwise(\"Defense\"))"
   ]
  },
  {
   "cell_type": "code",
   "execution_count": null,
   "metadata": {},
   "outputs": [],
   "source": [
    "# Events_fact.show(n=5,truncate=False)"
   ]
  },
  {
   "cell_type": "code",
   "execution_count": null,
   "metadata": {},
   "outputs": [],
   "source": [
    "# Events_fact.printSchema()"
   ]
  },
  {
   "cell_type": "code",
   "execution_count": null,
   "metadata": {},
   "outputs": [],
   "source": [
    "Events_fact = Events_fact.withColumn('player_id', Events_fact.player_id.cast(IntegerType())) \\\n",
    "                      .withColumn('match_id', Events_fact.match_id.cast(IntegerType())) \\\n",
    "                      .withColumn('event_timestamp', Events_fact.event_timestamp.cast(TimestampType())) \\\n",
    "                      .withColumn('event_location', Events_fact.event_location.cast(StringType()))"
   ]
  },
  {
   "cell_type": "code",
   "execution_count": null,
   "metadata": {},
   "outputs": [],
   "source": [
    "Events_fact.write.mode(\"overwrite\").format(\"bigquery\").option(\"table\", \"trips_data_all.events_fact_spark_generated\").save()"
   ]
  },
  {
   "cell_type": "code",
   "execution_count": 17,
   "metadata": {},
   "outputs": [],
   "source": [
    "Staduim.write \\\n",
    "        .mode(\"overwrite\") \\\n",
    "        .format(\"bigquery\") \\\n",
    "        .option('parentProject', \"data-engineering-afcon-2023\")\\\n",
    "        .option(\"table\", \"data-engineering-afcon-2023.afcon_events.stad_dim\").save()"
   ]
  },
  {
   "cell_type": "code",
   "execution_count": 18,
   "metadata": {},
   "outputs": [],
   "source": [
    "spark.stop()"
   ]
  }
 ],
 "metadata": {
  "kernelspec": {
   "display_name": "Python 3",
   "language": "python",
   "name": "python3"
  },
  "language_info": {
   "codemirror_mode": {
    "name": "ipython",
    "version": 3
   },
   "file_extension": ".py",
   "mimetype": "text/x-python",
   "name": "python",
   "nbconvert_exporter": "python",
   "pygments_lexer": "ipython3",
   "version": "3.8.10"
  }
 },
 "nbformat": 4,
 "nbformat_minor": 5
}

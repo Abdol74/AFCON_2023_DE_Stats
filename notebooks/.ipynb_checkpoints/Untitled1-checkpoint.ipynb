{
 "cells": [
  {
   "cell_type": "code",
   "execution_count": 1,
   "metadata": {},
   "outputs": [],
   "source": [
    "import pyspark\n",
    "from pyspark.sql import SparkSession, Row, SQLContext\n",
    "from pyspark.conf import SparkConf\n",
    "from pyspark.context import SparkContext\n",
    "from pyspark.sql.functions import * \n",
    "from datetime import datetime, timedelta\n",
    "from pyspark.sql.types import *\n",
    "import random\n",
    "from pyspark.sql.functions import udf, col "
   ]
  },
  {
   "cell_type": "code",
   "execution_count": 2,
   "metadata": {},
   "outputs": [],
   "source": [
    "credentials_location = \"/home/abdol/AFCON_2023_DE_Stats/code/mage-spark/keys/my-creds.json\""
   ]
  },
  {
   "cell_type": "code",
   "execution_count": 3,
   "metadata": {},
   "outputs": [],
   "source": [
    "conf = SparkConf() \\\n",
    "    .setMaster('local[*]') \\\n",
    "    .setAppName('test') \\\n",
    "    .set(\"spark.jars\", \"/home/abdol/AFCON_2023_DE_Stats/lib/gcs-connector-hadoop3-2.2.5.jar\") \\\n",
    "    .set(\"spark.hadoop.google.cloud.auth.service.account.enable\", \"true\") \\\n",
    "    .set(\"spark.hadoop.google.cloud.auth.service.account.json.keyfile\", credentials_location)"
   ]
  },
  {
   "cell_type": "code",
   "execution_count": 4,
   "metadata": {},
   "outputs": [],
   "source": [
    "sc = SparkContext(conf=conf)"
   ]
  },
  {
   "cell_type": "code",
   "execution_count": 5,
   "metadata": {},
   "outputs": [],
   "source": [
    "hadoop_conf = sc._jsc.hadoopConfiguration()"
   ]
  },
  {
   "cell_type": "code",
   "execution_count": 6,
   "metadata": {},
   "outputs": [],
   "source": [
    "hadoop_conf.set(\"fs.AbstractFileSystem.gs.impl\",  \"com.google.cloud.hadoop.fs.gcs.GoogleHadoopFS\")\n",
    "hadoop_conf.set(\"fs.gs.impl\", \"com.google.cloud.hadoop.fs.gcs.GoogleHadoopFileSystem\")\n",
    "hadoop_conf.set(\"fs.gs.auth.service.account.json.keyfile\", credentials_location)\n",
    "hadoop_conf.set(\"fs.gs.auth.service.account.enable\", \"true\")"
   ]
  },
  {
   "cell_type": "code",
   "execution_count": 7,
   "metadata": {},
   "outputs": [],
   "source": [
    "spark = SparkSession.builder \\\n",
    "    .config(conf=sc.getConf()) \\\n",
    "    .getOrCreate()"
   ]
  },
  {
   "cell_type": "code",
   "execution_count": 8,
   "metadata": {},
   "outputs": [],
   "source": [
    "matches_df = spark.read.parquet(\"gs://cloud_bucket_dbt/acfon_matches.parquet\")"
   ]
  },
  {
   "cell_type": "code",
   "execution_count": 9,
   "metadata": {},
   "outputs": [
    {
     "name": "stderr",
     "output_type": "stream",
     "text": [
      "/home/abdol/spark/spark-3.3.2-bin-hadoop3/python/pyspark/sql/dataframe.py:229: FutureWarning: Deprecated in 2.0, use createOrReplaceTempView instead.\n",
      "  warnings.warn(\"Deprecated in 2.0, use createOrReplaceTempView instead.\", FutureWarning)\n"
     ]
    }
   ],
   "source": [
    "matches_df.registerTempTable('Matches')"
   ]
  },
  {
   "cell_type": "code",
   "execution_count": 10,
   "metadata": {},
   "outputs": [],
   "source": [
    "events_df = spark.read.parquet(\"gs://cloud_bucket_dbt/match_events.parquet\")"
   ]
  },
  {
   "cell_type": "code",
   "execution_count": 11,
   "metadata": {},
   "outputs": [],
   "source": [
    "Team_dim = spark.sql(\"\"\"\n",
    "            SELECT DISTINCT \n",
    "            home_team \n",
    "            FROM Matches\n",
    "    \"\"\")\n",
    "\n",
    "Team_dim = Team_dim.withColumnRenamed('home_team','team')\n",
    "\n",
    "Team_dim  = Team_dim.join(events_df.select('team_id','team').distinct(),on='team',how='leftouter')\n",
    "\n",
    "Team_dim = Team_dim.withColumn('team_id',Team_dim.team_id.cast(IntegerType()))\n",
    "\n",
    "Team_dim = Team_dim.select('team_id', 'team')"
   ]
  },
  {
   "cell_type": "code",
   "execution_count": 12,
   "metadata": {},
   "outputs": [],
   "source": [
    "# x_list = [3374, 787, 4992, 4881, 4898, 4901, 4885, 788, 4892, 4978, 774, 4921, 4930]"
   ]
  },
  {
   "cell_type": "code",
   "execution_count": 13,
   "metadata": {},
   "outputs": [],
   "source": [
    "excluded_list = Team_dim.select(collect_list('team_id')).collect()[0][0]"
   ]
  },
  {
   "cell_type": "code",
   "execution_count": 15,
   "metadata": {},
   "outputs": [],
   "source": [
    "x_list = spark.sparkContext.broadcast(excluded_list)"
   ]
  },
  {
   "cell_type": "code",
   "execution_count": 16,
   "metadata": {},
   "outputs": [],
   "source": [
    "def generate_random_int_not_in_list(team_id,x_list=x_list.value):\n",
    "    if team_id is None:\n",
    "        while True:\n",
    "            random_int = random.randint(1, 1000)\n",
    "            if random_int not in x_list:\n",
    "                return int(random_int)\n",
    "    else:\n",
    "        return int(team_id)\n"
   ]
  },
  {
   "cell_type": "code",
   "execution_count": 17,
   "metadata": {},
   "outputs": [],
   "source": [
    "generate_random_int_udf= udf(generate_random_int_not_in_list,IntegerType())"
   ]
  },
  {
   "cell_type": "code",
   "execution_count": 18,
   "metadata": {},
   "outputs": [],
   "source": [
    "Team_dim = Team_dim.withColumn(\"team_id\", generate_random_int_udf(\"team_id\"))"
   ]
  },
  {
   "cell_type": "code",
   "execution_count": 19,
   "metadata": {},
   "outputs": [
    {
     "name": "stdout",
     "output_type": "stream",
     "text": [
      "+-------+------------------+\n",
      "|team_id|team              |\n",
      "+-------+------------------+\n",
      "|3374   |Côte d'Ivoire     |\n",
      "|787    |Senegal           |\n",
      "|4992   |Equatorial Guinea |\n",
      "|4881   |Congo DR          |\n",
      "|4898   |Algeria           |\n",
      "|4901   |Angola            |\n",
      "|4885   |Ghana             |\n",
      "|652    |Nigeria           |\n",
      "|44     |Mauritania        |\n",
      "|788    |Morocco           |\n",
      "|3      |Tunisia           |\n",
      "|835    |Namibia           |\n",
      "|437    |Zambia            |\n",
      "|4892   |Guinea            |\n",
      "|252    |Cape Verde Islands|\n",
      "|4978   |Mozambique        |\n",
      "|431    |Gambia            |\n",
      "|760    |Tanzania          |\n",
      "|931    |Cameroon          |\n",
      "|999    |Guinea-Bissau     |\n",
      "+-------+------------------+\n",
      "only showing top 20 rows\n",
      "\n"
     ]
    }
   ],
   "source": [
    "Team_dim.show(truncate=False)"
   ]
  },
  {
   "cell_type": "code",
   "execution_count": 20,
   "metadata": {},
   "outputs": [],
   "source": [
    "spark.stop()"
   ]
  }
 ],
 "metadata": {
  "kernelspec": {
   "display_name": "Python 3",
   "language": "python",
   "name": "python3"
  },
  "language_info": {
   "codemirror_mode": {
    "name": "ipython",
    "version": 3
   },
   "file_extension": ".py",
   "mimetype": "text/x-python",
   "name": "python",
   "nbconvert_exporter": "python",
   "pygments_lexer": "ipython3",
   "version": "3.8.10"
  }
 },
 "nbformat": 4,
 "nbformat_minor": 4
}
